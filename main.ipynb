{
 "cells": [
  {
   "cell_type": "markdown",
   "id": "e3f5d49c",
   "metadata": {},
   "source": [
    "<h3>EDA</h3>"
   ]
  },
  {
   "cell_type": "code",
   "execution_count": 1,
   "id": "96cbe805",
   "metadata": {},
   "outputs": [],
   "source": [
    "import pandas as pd\n",
    "import numpy as np\n",
    "import seaborn as sns\n",
    "\n",
    "df = pd.read_csv('Stress_Dataset.csv')\n",
    "#df.head()"
   ]
  },
  {
   "cell_type": "markdown",
   "id": "b13f56f1",
   "metadata": {},
   "source": [
    "<h3>Obtain basic information</h3>"
   ]
  },
  {
   "cell_type": "code",
   "execution_count": 2,
   "id": "06c6dd32",
   "metadata": {},
   "outputs": [
    {
     "name": "stdout",
     "output_type": "stream",
     "text": [
      "<class 'pandas.core.frame.DataFrame'>\n",
      "RangeIndex: 843 entries, 0 to 842\n",
      "Data columns (total 26 columns):\n",
      " #   Column                                                                Non-Null Count  Dtype \n",
      "---  ------                                                                --------------  ----- \n",
      " 0   Gender                                                                843 non-null    int64 \n",
      " 1   Age                                                                   843 non-null    int64 \n",
      " 2   Have you recently experienced stress in your life?                    843 non-null    int64 \n",
      " 3   Have you noticed a rapid heartbeat or palpitations?                   843 non-null    int64 \n",
      " 4   Have you been dealing with anxiety or tension recently?               843 non-null    int64 \n",
      " 5   Do you face any sleep problems or difficulties falling asleep?        843 non-null    int64 \n",
      " 6   Have you been dealing with anxiety or tension recently?.1             843 non-null    int64 \n",
      " 7   Have you been getting headaches more often than usual?                843 non-null    int64 \n",
      " 8   Do you get irritated easily?                                          843 non-null    int64 \n",
      " 9   Do you have trouble concentrating on your academic tasks?             843 non-null    int64 \n",
      " 10  Have you been feeling sadness or low mood?                            843 non-null    int64 \n",
      " 11  Have you been experiencing any illness or health issues?              843 non-null    int64 \n",
      " 12  Do you often feel lonely or isolated?                                 843 non-null    int64 \n",
      " 13  Do you feel overwhelmed with your academic workload?                  843 non-null    int64 \n",
      " 14  Are you in competition with your peers, and does it affect you?       843 non-null    int64 \n",
      " 15  Do you find that your relationship often causes you stress?           843 non-null    int64 \n",
      " 16  Are you facing any difficulties with your professors or instructors?  843 non-null    int64 \n",
      " 17  Is your working environment unpleasant or stressful?                  843 non-null    int64 \n",
      " 18  Do you struggle to find time for relaxation and leisure activities?   843 non-null    int64 \n",
      " 19  Is your hostel or home environment causing you difficulties?          843 non-null    int64 \n",
      " 20  Do you lack confidence in your academic performance?                  843 non-null    int64 \n",
      " 21  Do you lack confidence in your choice of academic subjects?           843 non-null    int64 \n",
      " 22  Academic and extracurricular activities conflicting for you?          843 non-null    int64 \n",
      " 23  Do you attend classes regularly?                                      843 non-null    int64 \n",
      " 24  Have you gained/lost weight?                                          843 non-null    int64 \n",
      " 25  Which type of stress do you primarily experience?                     843 non-null    object\n",
      "dtypes: int64(25), object(1)\n",
      "memory usage: 171.4+ KB\n"
     ]
    },
    {
     "data": {
      "text/plain": [
       "Gender                                                                  0\n",
       "Age                                                                     0\n",
       "Have you recently experienced stress in your life?                      0\n",
       "Have you noticed a rapid heartbeat or palpitations?                     0\n",
       "Have you been dealing with anxiety or tension recently?                 0\n",
       "Do you face any sleep problems or difficulties falling asleep?          0\n",
       "Have you been dealing with anxiety or tension recently?.1               0\n",
       "Have you been getting headaches more often than usual?                  0\n",
       "Do you get irritated easily?                                            0\n",
       "Do you have trouble concentrating on your academic tasks?               0\n",
       "Have you been feeling sadness or low mood?                              0\n",
       "Have you been experiencing any illness or health issues?                0\n",
       "Do you often feel lonely or isolated?                                   0\n",
       "Do you feel overwhelmed with your academic workload?                    0\n",
       "Are you in competition with your peers, and does it affect you?         0\n",
       "Do you find that your relationship often causes you stress?             0\n",
       "Are you facing any difficulties with your professors or instructors?    0\n",
       "Is your working environment unpleasant or stressful?                    0\n",
       "Do you struggle to find time for relaxation and leisure activities?     0\n",
       "Is your hostel or home environment causing you difficulties?            0\n",
       "Do you lack confidence in your academic performance?                    0\n",
       "Do you lack confidence in your choice of academic subjects?             0\n",
       "Academic and extracurricular activities conflicting for you?            0\n",
       "Do you attend classes regularly?                                        0\n",
       "Have you gained/lost weight?                                            0\n",
       "Which type of stress do you primarily experience?                       0\n",
       "dtype: int64"
      ]
     },
     "execution_count": 2,
     "metadata": {},
     "output_type": "execute_result"
    }
   ],
   "source": [
    "df.shape\n",
    "df.info()\n",
    "df.columns\n",
    "df.nunique()\n",
    "df.describe()\n",
    "df.isnull().sum()"
   ]
  },
  {
   "cell_type": "markdown",
   "id": "0d0e7408",
   "metadata": {},
   "source": [
    "Translate stress type to categorical"
   ]
  },
  {
   "cell_type": "code",
   "execution_count": 3,
   "id": "5f7eef6c",
   "metadata": {},
   "outputs": [
    {
     "name": "stdout",
     "output_type": "stream",
     "text": [
      "0      1\n",
      "1      1\n",
      "2      1\n",
      "3      1\n",
      "4      1\n",
      "      ..\n",
      "838    1\n",
      "839    2\n",
      "840    1\n",
      "841    1\n",
      "842    1\n",
      "Name: Which type of stress do you primarily experience?, Length: 843, dtype: int8\n"
     ]
    }
   ],
   "source": [
    "df['Which type of stress do you primarily experience?'] = (df['Which type of stress do you primarily experience?'].astype('category')).cat.codes\n",
    "print(df['Which type of stress do you primarily experience?'])"
   ]
  },
  {
   "cell_type": "markdown",
   "id": "ef9b81e4",
   "metadata": {},
   "source": [
    "Drop duplicate column \"Have you been dealing with anxiety or tension recently?.1 \""
   ]
  },
  {
   "cell_type": "code",
   "execution_count": 4,
   "id": "6f0b2920",
   "metadata": {},
   "outputs": [],
   "source": [
    "df = df.drop(['Have you been dealing with anxiety or tension recently?.1'],axis=1)"
   ]
  },
  {
   "cell_type": "markdown",
   "id": "a9f517ff",
   "metadata": {},
   "source": [
    "Rename columns"
   ]
  },
  {
   "cell_type": "code",
   "execution_count": 5,
   "id": "6898f4d4",
   "metadata": {},
   "outputs": [],
   "source": [
    "df.columns = ['Gender', 'Age', 'recent_stress',\n",
    "       'rapid_heartbeat',\n",
    "       'anxiety_or_tension',\n",
    "       'sleep_problems',\n",
    "       'headaches',\n",
    "       'irritable',\n",
    "       'concentration',\n",
    "       'sadness',\n",
    "       'illness',\n",
    "       'lonely',\n",
    "       'overwhelmed',\n",
    "       'competitive',\n",
    "       'relationship_stress',\n",
    "       'instructor_difficulties',\n",
    "       'unpleasant_work',\n",
    "       'struggle_to_relax',\n",
    "       'home_difficulty',\n",
    "       'lack_academic_confidence',\n",
    "       'lack_choice_confidence',\n",
    "       'conflicting_activities',\n",
    "       'attendance', 'weight_change',\n",
    "       'stress_type']"
   ]
  },
  {
   "cell_type": "code",
   "execution_count": 7,
   "id": "0d58cd40",
   "metadata": {},
   "outputs": [],
   "source": [
    "from sklearn.ensemble import RandomForestClassifier\n",
    "from sklearn.model_selection import train_test_split\n",
    "from sklearn.metrics import accuracy_score\n",
    "\n",
    "\n",
    "X_train, X_test, y_train, y_test = train_test_split(df.drop(['stress_type'],axis=1), df['stress_type'], test_size=0.33, random_state=1)\n",
    "\n",
    "regr = RandomForestClassifier(max_depth=8, random_state=23)\n",
    "df_model = regr.fit(X_train, y_train)"
   ]
  },
  {
   "cell_type": "code",
   "execution_count": 8,
   "id": "42d81cac",
   "metadata": {},
   "outputs": [],
   "source": [
    "y = df_model.predict(X_test)\n"
   ]
  },
  {
   "cell_type": "code",
   "execution_count": 9,
   "id": "87bdc863",
   "metadata": {},
   "outputs": [
    {
     "name": "stdout",
     "output_type": "stream",
     "text": [
      "0.9283154121863799\n"
     ]
    }
   ],
   "source": [
    "print(accuracy_score(y,y_test))"
   ]
  }
 ],
 "metadata": {
  "kernelspec": {
   "display_name": "base",
   "language": "python",
   "name": "python3"
  },
  "language_info": {
   "codemirror_mode": {
    "name": "ipython",
    "version": 3
   },
   "file_extension": ".py",
   "mimetype": "text/x-python",
   "name": "python",
   "nbconvert_exporter": "python",
   "pygments_lexer": "ipython3",
   "version": "3.11.5"
  }
 },
 "nbformat": 4,
 "nbformat_minor": 5
}
